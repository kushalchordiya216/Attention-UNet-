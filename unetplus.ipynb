{
 "cells": [
  {
   "cell_type": "markdown",
   "metadata": {
    "collapsed": false,
    "pycharm": {
     "name": "#%% md\n"
    }
   },
   "source": [
    "### Import required modules\n"
   ]
  },
  {
   "cell_type": "code",
   "execution_count": null,
   "metadata": {
    "collapsed": false,
    "pycharm": {
     "name": "#%%\n"
    }
   },
   "outputs": [],
   "source": [
    "from tensorflow.keras.layers import *\n",
    "from tensorflow.keras.models import Model\n",
    "from tensorflow.keras.losses import binary_crossentropy, mean_squared_error\n",
    "from tensorflow.keras.optimizers import Adam \n",
    "from tensorflow.keras.backend import cast, flatten, sum\n",
    "from tensorflow.keras.callbacks import TensorBoard, ModelCheckpoint\n",
    "from tensorflow import Tensor\n",
    "from typing import List"
   ]
  },
  {
   "cell_type": "markdown",
   "metadata": {
    "collapsed": false,
    "pycharm": {
     "is_executing": false,
     "name": "#%% md\n"
    }
   },
   "source": [
    "### Utility functions to load data"
   ]
  },
  {
   "cell_type": "code",
   "execution_count": null,
   "metadata": {
    "collapsed": false,
    "pycharm": {
     "name": "#%%\n"
    }
   },
   "outputs": [],
   "source": [
    " def DataGenerator():\n",
    "     pass"
   ]
  },
  {
   "cell_type": "markdown",
   "metadata": {
    "collapsed": false,
    "pycharm": {
     "name": "#%% md\n"
    }
   },
   "source": [
    "### Define building blocks for network"
   ]
  },
  {
   "cell_type": "code",
   "execution_count": null,
   "metadata": {
    "collapsed": false,
    "pycharm": {
     "name": "#%%\n"
    }
   },
   "outputs": [],
   "source": [
    "def DownSample(input_tensor: Tensor,filters:int, name:str)->Tensor:\n",
    "    x: Tensor = Conv2D(filters=filters, kernel_size=(\n",
    "        3, 3), strides=1, padding='same', name=name + 'Conv1')(input_tensor)\n",
    "    x = ReLU(name=name + \"ReLU1\")(x)\n",
    "    x = Conv2D(filters=filters, kernel_size=(\n",
    "        3, 3), strides=1, padding='same', name=name + 'Conv2')(x)\n",
    "    x = ReLU(name=name + \"ReLU2\")(x)\n",
    "    x = MaxPool2D(pool_size=(2, 2), strides=2, name=name + \"MaxPool\")(x)\n",
    "    return x\n",
    "\n",
    "def UpSample(input_tensor:Tensor,tensor_list:List[Tensor], filters:int, name:str)->Tensor:\n",
    "    x: Tensor = UpSampling2D(size=(2,2), name=name+\"up_sample\")(input_tensor)\n",
    "    x = Conv2D(filters=filters, kernel_size=(2,2),padding='same',name=name+\"Conv1\")(x)\n",
    "    x = ReLU()(x)\n",
    "    tensor_list.append(x)\n",
    "    x = Concatenate(tensor_list,axis=2, name=name+\"concatenated_block\")\n",
    "    x = Conv2D(filters=filters,kernel_size=(3,3),padding='same',name=name+\"Conv2\")(x)\n",
    "    x = ReLU(x)\n",
    "    return x\n",
    "\n",
    "def AttnGate(x, g, channels)->Tensor:\n",
    "    theta_x = Conv2D(channels, kernel_size=(1, 1), padding='same')(x)\n",
    "    theta_x = BatchNormalization()(theta_x)\n",
    "    phi_g = Conv2D(channels, kernel_size=(1, 1), padding='same')(g)\n",
    "    phi_g = BatchNormalization()(phi_g)\n",
    "    concat_xg = Add()([theta_x, phi_g])\n",
    "    concat_act = ReLU()(concat_xg)\n",
    "    psi_xg = Conv2D(1, kernel_size=(1, 1), padding='same')(concat_act)\n",
    "    psi_xg = Activation('sigmoid')(psi_xg)\n",
    "    y = Multiply()([psi_xg, x])\n",
    "    return y"
   ]
  },
  {
   "cell_type": "markdown",
   "execution_count": null,
   "metadata": {
    "collapsed": false,
    "pycharm": {
     "name": "#%% md \n"
    }
   },
   "outputs": [],
   "source": [
    "### Define Losses and Optimizers"
   ]
  },
  {
   "cell_type": "code",
   "execution_count": null,
   "metadata": {
    "collapsed": false,
    "pycharm": {
     "name": "#%% \n"
    }
   },
   "outputs": [],
   "source": [
    "def dice_coef(y_true, y_pred, smooth=1)->float:\n",
    "    y_true_f = cast(flatten(y_true), dtype='float64')\n",
    "    y_pred_f = cast(flatten(y_pred), dtype='float64')\n",
    "    intersection = sum(y_true_f * y_pred_f)\n",
    "    return (2. * intersection + smooth) / (sum(y_true_f) + sum(y_pred_f) + smooth)\n",
    "\n",
    "def dice_loss(y_true, y_pred)->float:\n",
    "    return 1. - dice_coef(y_true = y_true, y_pred = y_pred)\n",
    "\n",
    "optimizer = Adam(lr=0.0001)"
   ]
  },
  {
   "cell_type": "markdown",
   "metadata": {
    "collapsed": false,
    "pycharm": {
     "name": "#%% md\n"
    }
   },
   "source": [
    "### Building the Network \n"
   ]
  },
  {
   "cell_type": "code",
   "execution_count": null,
   "metadata": {
    "collapsed": false,
    "pycharm": {
     "name": "#%%\n"
    }
   },
   "outputs": [],
   "source": [
    "def UnetPlus()-> Model:\n",
    "    ##################################  Down sampling block ########################################\n",
    "    input_img = Input(shape=(512,512,1),batch_size=64,name=\"input\")\n",
    "    x00:Tensor = DownSample(input_tensor=input_img,filters=64,name='00')                   # shape: (bs,256,256,64)\n",
    "    x10:Tensor = DownSample(input_tensor=x00,filters=128,name=\"10\")                        # shape: (bs,128,128,128)\n",
    "    x20:Tensor = DownSample(input_tensor=x10,filters=256,name='20')                        # shape: (bs,64,64,256)\n",
    "    x30:Tensor = DownSample(input_tensor=x20,filters=512,name='30')                        # shape: (bs,32,32,512)\n",
    "    x40:Tensor = DownSample(input_tensor=x30,filters=1024,name='40')                       # shape: (bs,16,16,1024)   \n",
    "\n",
    "    ##################################  Single Skip Connection Nodes #########################################\n",
    "    x01:Tensor = UpSample(input_tensor=x10,tensor_list=[x00],filters=1, name='01')         # shape: (bs,512,512,1) #output1\n",
    "    x11:Tensor = UpSample(input_tensor=x20,tensor_list=[x10],filters=64, name='11')        # shape: (bs,256,256,64)\n",
    "    x21:Tensor = UpSample(input_tensor=x30,tensor_list=[x20],filters=128, name='21')       # shape: (bs,128,128,128)\n",
    "    x31:Tensor = UpSample(input_tensor=x40,tensor_list=[x30],filters=256, name='31')       # shape: (bs,64,64,256)\n",
    "    \n",
    "    ################################## Double Skip Connection Nodes ##########################################\n",
    "    x02:Tensor = UpSample(input_tensor=x11,tensor_list=[x00,x01],filters=1,name='02')      # shape: (bs, 512,512,1) #output2\n",
    "    x12:Tensor = UpSample(input_tensor=x21,tensor_list=[x10,x11],filters=64,name='12')     # shape: (bs,256,256,64)\n",
    "    x22:Tensor = UpSample(input_tensor=x31,tensor_list=[x20,x21],filters=256, name='22')   # shape: (bs,64,64,256)\n",
    "    \n",
    "    ################################# Triple Skip Connection Nodes ##########################################\n",
    "    x03:Tensor = UpSample(input_tensor=x12,tensor_list=[x00,x01,x02],filters=1,name='03')  # shape: (bs, 512,512,1) #output3\n",
    "    x13:Tensor = UpSample(input_tensor=x22,tensor_list=[x10,x11,x12],filters=1,name='13')  # shape: (bs, 512,512,1) #output3\n",
    "    \n",
    "    ################################### FINAL NODE #########################################\n",
    "    x04:Tensor = UpSample(input_tensor=x13,tensor_list=[x00,x01,x02,x03],filters=512,name='04') #shape: (bs, 512,512,1) #output4\n",
    "    \n",
    "    Unetplus:Model = Model(input_img,outputs=[x04,x03,x02,x01])\n",
    "    return Unetplus"
   ]
  },
  {
   "cell_type": "markdown",
   "metadata": {
    "collapsed": false,
    "pycharm": {
     "name": "#%% md\n"
    }
   },
   "source": [
    "### Compile the model"
   ]
  },
  {
   "cell_type": "code",
   "execution_count": null,
   "metadata": {
    "collapsed": false,
    "pycharm": {
     "name": "#%%\n"
    }
   },
   "outputs": [],
   "source": [
    "SegmentationModel:Model = UnetPlus()\n",
    "losses = [dice_loss] * 4\n",
    "SegmentationModel.compile(optimizer=optimizer,loss=losses)\n"
   ]
  }
 ],
 "metadata": {
  "kernelspec": {
   "name": "pycharm-fbbefdde",
   "language": "python",
   "display_name": "PyCharm (Segmentation)"
  },
  "language_info": {
   "codemirror_mode": {
    "name": "ipython",
    "version": 2
   },
   "file_extension": ".py",
   "mimetype": "text/x-python",
   "name": "python",
   "nbconvert_exporter": "python",
   "pygments_lexer": "ipython2",
   "version": "2.7.6"
  },
  "pycharm": {
   "stem_cell": {
    "cell_type": "raw",
    "source": [],
    "metadata": {
     "collapsed": false
    }
   }
  }
 },
 "nbformat": 4,
 "nbformat_minor": 0
}